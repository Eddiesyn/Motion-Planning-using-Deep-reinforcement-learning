{
 "cells": [
  {
   "cell_type": "markdown",
   "metadata": {},
   "source": [
    "'''\n",
    "point tracking in plan\n",
    "\n",
    "vrep --> real robot: \n",
    "- vrep = False\n",
    "- arm_theta1/2/3\n",
    "- theta_bound \n",
    "- action_bound\n",
    "- point_bound\n",
    "- point_l: good range\n",
    "'''\n",
    "# motor_move ： adaptive time in move\n",
    "# action < 1 degree\n",
    "# step + cost avoid collision\n",
    "\n",
    "# reset(return to random region)\n",
    "# hight area(40)(20-60) --》 z:（30）, \n",
    "# avoid table"
   ]
  },
  {
   "cell_type": "code",
   "execution_count": 1,
   "metadata": {},
   "outputs": [],
   "source": [
    "from pypot.vrep import from_vrep, close_all_connections\n",
    "import time\n",
    "import numpy as np\n",
    "# For real robot===================\n",
    "from pypot.robot import from_config\n",
    "import pypot.dynamixel\n",
    "\n",
    "import itertools\n",
    "import random\n",
    "#==================================\n",
    "vrep = False # if in the vrep env"
   ]
  },
  {
   "cell_type": "code",
   "execution_count": 2,
   "metadata": {
    "scrolled": true
   },
   "outputs": [],
   "source": [
    "if vrep:\n",
    "    close_all_connections()\n",
    "    poppy = from_vrep('poppy.json', scene = 'experiment.ttt') # /home/eddiesyn/V-REP/\n",
    "else:\n",
    "    ports = pypot.dynamixel.get_available_ports()\n",
    "    dxl_io_up = pypot.dynamixel.DxlIO(ports[1])\n",
    "    dxl_io_down = pypot.dynamixel.DxlIO(ports[0])\n",
    "    poppy_up = dxl_io_up.scan(range(60))\n",
    "    poppy_down = dxl_io_down.scan(range(60))"
   ]
  },
  {
   "cell_type": "code",
   "execution_count": 3,
   "metadata": {},
   "outputs": [
    {
     "name": "stdout",
     "output_type": "stream",
     "text": [
      "[31, 32, 33, 34, 35, 36, 37, 41, 42, 43, 44, 51, 52, 53, 54]\n",
      "[11, 12, 13, 14, 15, 21, 22, 23, 24, 25]\n"
     ]
    }
   ],
   "source": [
    "print(poppy_up)\n",
    "print(poppy_down)\n",
    "#motor = [31, 32, 34,]#11, 13,14, 21, 23, 24, 33, 35, 36, 37, 51, 52, 53, 54, 12, 15, 22, 25\n"
   ]
  },
  {
   "cell_type": "code",
   "execution_count": 148,
   "metadata": {},
   "outputs": [],
   "source": [
    "i = 0\n",
    "# Relative functions for real robot===========================\n",
    "# Initialization\n",
    "def reset_wholebody(speed):\n",
    "    #ports = pypot.dynamixel.get_available_ports()\n",
    "\n",
    "    if not ports:\n",
    "        raise IOError('no port found!')\n",
    "\n",
    "    print('ports found', ports)\n",
    "\n",
    "    print('connecting on the first available port:', ports[0], ports[1])\n",
    "    lower_io = dxl_io_down\n",
    "    upper_io = dxl_io_up\n",
    "\n",
    "    lower_ids = lower_io.scan(range(11, 26))\n",
    "    upper_ids = upper_io.scan(range(31, 55))\n",
    "    if len(lower_ids + upper_ids) != 25:\n",
    "        raise Exception(\"some motors can't be scanned\")\n",
    "\n",
    "    lower_speed = dict(zip(lower_ids, itertools.repeat(10)))\n",
    "    upper_speed = dict(zip(upper_ids, itertools.repeat(10)))\n",
    "    lower_io.set_moving_speed(lower_speed)\n",
    "    upper_io.set_moving_speed(upper_speed)\n",
    "\n",
    "    lower_pose = dict(zip(lower_ids, itertools.repeat(0)))\n",
    "    upper_pose = dict(zip(upper_ids, itertools.repeat(0)))\n",
    "    upper_pose[41] = 90\n",
    "    upper_pose[42] = 85\n",
    "    upper_pose[44] = 0\n",
    "    upper_pose[51] = -90\n",
    "    upper_pose[52] = -85\n",
    "    upper_pose[54] = 0\n",
    "    lower_pose[21] = -18\n",
    "\n",
    "    upper_io.set_pid_gain({41: (7, 4.0, 0.4), 42: (5.0, 2.0, 0.4)})\n",
    "\n",
    "    upper_io.set_goal_position(upper_pose)\n",
    "    lower_io.set_goal_position(lower_pose)\n",
    "    time.sleep(20)\n",
    "\n",
    "    \n",
    "def reset_RealArm(speed): # speed is supposed to be less than 35\n",
    "    real_move(41, speed, 90)\n",
    "    real_move(42, speed, 90)\n",
    "    real_move(44, speed, -10)\n",
    "# Move control\n",
    "def real_move(joint_id, speed, goal_pos): #After test, speed value of 35 is suitable\n",
    "    \n",
    "    set_speed = dxl_io_up.set_moving_speed({joint_id: speed})\n",
    "    goal_pose = dxl_io_up.set_goal_position({joint_id: goal_pos})\n",
    "    #print('target pose', goal_pose, 'manule speed', speed)\n",
    "# Get current motor information\n",
    "def get_info(joint_id):\n",
    "    pose = dxl_io_up.get_present_position((joint_id, ))\n",
    "    lim = dxl_io_up.get_angle_limit((joint_id, ))\n",
    "    ori_speed = dxl_io_up.get_moving_speed((joint_id, ))\n",
    "    #print('original pose', pose, 'joint bound', lim, 'original speed', ori_speed)    \n",
    "    return(pose,lim,ori_speed)\n",
    "#==============================================================="
   ]
  },
  {
   "cell_type": "code",
   "execution_count": 149,
   "metadata": {},
   "outputs": [
    {
     "name": "stdout",
     "output_type": "stream",
     "text": [
      "ports found ['/dev/ttyACM1', '/dev/ttyACM0']\n",
      "connecting on the first available port: /dev/ttyACM1 /dev/ttyACM0\n"
     ]
    }
   ],
   "source": [
    "reset_wholebody(15)"
   ]
  },
  {
   "cell_type": "code",
   "execution_count": 10,
   "metadata": {
    "scrolled": false
   },
   "outputs": [],
   "source": [
    "#initial motor angle\n",
    "if vrep:\n",
    "\tarm_theta1 = 0\n",
    "\tarm_theta2 = 0 \n",
    "\tarm_theta3 = -10\n",
    "else:\n",
    "\treset_wholebody(15)\n",
    "\n",
    "\n",
    "#for m in poppy.motors:\n",
    "#\tif m.id == 41:\n",
    "#\t\tmotor_41 = m\n",
    "#\tif m.id == 42:\n",
    "#\t\tmotor_42 = m\n",
    "#\tif m.id == 44:\n",
    "#\t\tmotor_44 = m"
   ]
  },
  {
   "cell_type": "code",
   "execution_count": 52,
   "metadata": {},
   "outputs": [],
   "source": [
    "real_move(41, 15, 0)\n",
    "real_move(42, 15, 0)\n",
    "real_move(43, 15, 0)\n",
    "real_move(44, 15, 0)"
   ]
  },
  {
   "cell_type": "code",
   "execution_count": 151,
   "metadata": {},
   "outputs": [
    {
     "name": "stdout",
     "output_type": "stream",
     "text": [
      "((89.98,), ((-120.04, 155.03),), (10.26,))\n",
      "((84.97,), ((-105.01, 110.02),), (10.26,))\n",
      "((0.04,), ((-148.0, 1.01),), (10.26,))\n"
     ]
    }
   ],
   "source": [
    "print(get_info(41))\n",
    "print(get_info(42))\n",
    "print(get_info(44))"
   ]
  },
  {
   "cell_type": "code",
   "execution_count": null,
   "metadata": {},
   "outputs": [],
   "source": [
    "def move(motor_, present_position_, goal_position_):  #did not use param present_position_??????????????????????\n",
    "\tif vrep:\n",
    "\t\tif (motor_ == motor_42) and (motor_41.present_position > -10) and (goal_position_ < 0):\n",
    "\t\t\ttime.sleep(0.001)\n",
    "\t\telif (motor_ == motor_41) and (motor_42.present_position < 0) and (goal_position_ > -10):\n",
    "\t\t\ttime.sleep(0.001)\n",
    "\t\telse:\n",
    "            pose41,lim41,_ = get_info(41)\n",
    "\t\t\tmotor_.goal_position = goal_position_\n",
    "\t\t\ttime.sleep(0.5)\n",
    "\t# move motor to goal_position in real robot\n",
    "\t# should consider the constraints between motor41 and motor42 and time for reach goal_pos\n",
    "\telse:\n",
    "        pose41,lim41,_ = get_info(41)\n",
    "        pose42,lim42,_ = get_info(42)\n",
    "        #if pose41< 0 and goal_position_ > -10:\n",
    "\t\tif (motor_ == 42) and (pose41 > -10) and (goal_position_ < 0): #real robot limit may change ??????????????\n",
    "            real_move(motor_, 25, goal_position_)\n",
    "        elif (motor_ == 41) and (pose42 <0) and (goal_position_ > -10):\n",
    "            real_move(motor_, 25, goal_position_)"
   ]
  },
  {
   "cell_type": "code",
   "execution_count": 6,
   "metadata": {},
   "outputs": [],
   "source": [
    "def initial_pose():\n",
    "\tmove(motor_41, motor_41.present_position, arm_theta1)\n",
    "\tmove(motor_42, motor_41.present_position, arm_theta2)\n",
    "\tmove(motor_44, motor_44.present_position, arm_theta3)\t"
   ]
  },
  {
   "cell_type": "code",
   "execution_count": 6,
   "metadata": {},
   "outputs": [
    {
     "ename": "IndentationError",
     "evalue": "unindent does not match any outer indentation level (<ipython-input-6-9592e976cda8>, line 27)",
     "output_type": "error",
     "traceback": [
      "\u001b[0;36m  File \u001b[0;32m\"<ipython-input-6-9592e976cda8>\"\u001b[0;36m, line \u001b[0;32m27\u001b[0m\n\u001b[0;31m    if vrep:\u001b[0m\n\u001b[0m            ^\u001b[0m\n\u001b[0;31mIndentationError\u001b[0m\u001b[0;31m:\u001b[0m unindent does not match any outer indentation level\n"
     ]
    }
   ],
   "source": [
    "class Env(object):\n",
    " \t# action will be angle move between [-1,1]\n",
    "\tstate_dim = 8\t# theta1 & theta2 & theta3, distance to goal,get_point\n",
    "\taction_dim = 3\n",
    "\tget_point = False\n",
    "\tgrab_counter = 0\n",
    "\tpoint_l = 2\n",
    "\tvrep_matrix = np.array([[0, 0, -1], [-1, 0, 0], [0, 1, 0]])\n",
    "\ti = 0\n",
    "\t# point_bound = np.array([[-75, 55], [-19, 70], [-100, -10]])  \n",
    "\tif vrep:\t\t\n",
    "\t\tarm1l = 18.5\n",
    "\t\tarm2l = 21.5 #21.5 + 12\n",
    "\t\ttheta_bound = np.array([[-75, 55], [-19, 70], [-100, -10]])\n",
    "\t\taction_bound = [-5, 5]\n",
    "\t\tpoint_bound = np.array([[-23, -33], [-10,6]]) # YZ\n",
    "\t\tpoint_l = 2\n",
    "\telse:\n",
    "\t\tarm1l = 15\n",
    "\t\tarm2l = 11.5 #11.5 + 40\n",
    "\t\ttheta_bound = np.array([[-75, 55], [-19, 70], [-100, -10]])\n",
    "\t\taction_bound = [-30, 30]\n",
    "\t\tpoint_bound = np.array([[30, 40], [0, 10]]) #XY\n",
    "\t\tpoint_l = 10\n",
    "        \n",
    "# ================why second time initial????????????????????????????????????\n",
    "    if vrep:\n",
    "\t\tarm_theta1 = 0\n",
    "\t\tarm_theta2 = 0 \n",
    "\t\tarm_theta3 = -10\n",
    "\telse:\n",
    "\t\treset_RealArm(10)"
   ]
  },
  {
   "cell_type": "code",
   "execution_count": null,
   "metadata": {},
   "outputs": [],
   "source": [
    "def __init__(self, point_info = np.array([32.5, 0, -23 ]) ):\n",
    "\t\tself.arm_info = np.zeros(3)\n",
    "\t\tself.EE = np.zeros(3)\n",
    "\t\tself.arm_info[0] = self.arm_theta1\n",
    "\t\tself.arm_info[1] = self.arm_theta2\n",
    "\t\tself.arm_info[2] = self.arm_theta3\n",
    "\t\t#print('initial arm_info: ', self.arm_info[0], self.arm_info[1])\n",
    "\t\t# point_info[0] = 32.5 # initial random \n",
    "\t\t# point_info[1] = 0\n",
    "\t\t# point_info[2] = -22\n",
    "\t\t# point_info[0] = np.clip(, point_bound[0], ) # initial random \n",
    "\t\t# point_info[1] = 0\n",
    "\t\t# point_info[2] = -22\n",
    "\t\tif vrep:\n",
    "\t\t\tpoint_info = self.vrep_matrix.dot(point_info)\n",
    "\t\tprint('point_info:', point_info)\n",
    "\t\tself.point_info = point_info\n",
    "\t\tself.point_info_init = self.point_info.copy()\n",
    "\t\tself.EE = self.get_EE(self.arm_info)\n",
    "\n",
    "\t\tpoppy.reset_simulation()\n",
    "\t\tmotor_41.compliant = False\n",
    "\t\tmotor_42.compliant = False\n",
    "\t\tmotor_44.compliant = False\n",
    "\t\tmotor_41.torque_limit = 15\n",
    "\t\tmotor_42.torque_limit = 15\n",
    "\t\tmotor_44.torque_limit = 15\n",
    "\t\tmotor_41.moving_speed = 10\n",
    "\t\tmotor_42.moving_speed = 10\n",
    "\t\tmotor_44.moving_speed = 10\n",
    "\t\tinitial_pose()\n",
    "\n",
    "\tdef step(self, action):\n",
    "\t\tdone = False\n",
    "\t\taction_ = action  #* 180 / np.pi \t# action is np.array(2,)\n",
    "\t\tgoal_position_1 = np.clip((self.arm_info + action_)[0], self.theta_bound[0, 0] , self.theta_bound[0, 1] )\n",
    "\t\tgoal_position_2 = np.clip((self.arm_info + action_)[1], self.theta_bound[1, 0],  self.theta_bound[1, 1] )\n",
    "\t\tgoal_position_3 = np.clip((self.arm_info + action_)[2], self.theta_bound[2, 0],  self.theta_bound[2, 1] )\n",
    "\t\tmove(motor_41, motor_41.present_position, goal_position_1)\n",
    "\t\tmove(motor_42, motor_42.present_position, goal_position_2)\n",
    "\t\tmove(motor_44, motor_44.present_position, goal_position_3)\n",
    "\t\tself.i += 1\n",
    "\t\tprint('i:', self.i, ' go_pos1: %.2f' % goal_position_1, '   go_pos2: %.2f' % goal_position_2 , '   go_pos3: %.2f' % goal_position_3)\n",
    "\t\tself.arm_info[0] = motor_41.present_position \n",
    "\t\tself.arm_info[1] = motor_42.present_position \n",
    "\t\tself.arm_info[2] = motor_44.present_position\n",
    "\t\t#print('arm_info: ', self.arm_info[0], self.arm_info[1])\n",
    "\t\t# self.EE[0] = -self.arm2l*np.sin(np.sum(self.arm_info)) - self.arm1l*np.sin(self.arm_info[0])\n",
    "\t\t# self.EE[1] = self.arm2l*np.cos(np.sum(self.arm_info)) + self.arm1l*np.cos(self.arm_info[0])\n",
    "\t\tself.EE = self.get_EE(self.arm_info)\n",
    "\t\ts = self.get_state()\n",
    "\t\t# print('self.EE: ', self.EE)\n",
    "\t\tr = self._r_func(s[6])\n",
    "\t\tdone = self.get_point\n",
    "\t\treturn s, r, done\n",
    "\n",
    "\tdef _r_func(self, distance):\n",
    "\t\t# print('distance: ',distance)\n",
    "\t\tt = 50\n",
    "        # abs_distance = np.sqrt(np.sum(np.square(distance)))\n",
    "\t\tabs_distance = distance\n",
    "\t\tr = -abs_distance/200\n",
    "\t\t# print('point_l : ', self.point_l, 'get_point: ',  self.get_point, ' abs_dis: %.2f'% abs_distance)\n",
    "\t\tif abs_distance < self.point_l and (not self.get_point):\n",
    "\t\t\tprint('******************r+1**************************,| grab_counter: ', self.grab_counter)\n",
    "\t\t\tr += 1.\n",
    "\t\t\tself.grab_counter += 1\n",
    "\n",
    "\t\t\tif self.grab_counter > t:\n",
    "\t\t\t\tr += 10.\t\n",
    "\t\t\t\tself.get_point = True\n",
    "\t\t\t\tprint('******************r+10**************************')\n",
    "\t\telif abs_distance > self.point_l:\n",
    "\t\t\tself.grab_counter = 0\n",
    "\t\t\tself.get_point = False\n",
    "\t\treturn r\n",
    "\n",
    "\tdef reset(self):\n",
    "\t\tpoppy.reset_simulation()\n",
    "\t\tself.get_point = False\n",
    "        if vrep:\n",
    "\t\t\tself.point_info[1] = np.clip(self.point_bound[0, 0] + 10*np.random.random(), self.point_bound[0,0], self.point_bound[0,1])\n",
    "\t\t\tself.point_info[2] = np.clip(self.point_bound[1, 0] + 16*np.random.random(), self.point_bound[1,0], self.point_bound[1,1])\n",
    "\t\t\tself.point_info[0] = 23\n",
    "\t\telse: #is this for real robot ??????????????????????????????????????????\n",
    "\t\t\tself.point_info[0] = np.clip(self.point_bound[0, 0] + 10*np.random.random(), self.point_bound[0,0], self.point_bound[0,1])\n",
    "\t\t\tself.point_info[1] = np.clip(self.point_bound[1, 0] + 16*np.random.random(), self.point_bound[1,0], self.point_bound[1,1])\n",
    "\t\t\tself.point_info[2] = -23\n",
    "        # if vrep:\n",
    "\t\t# \tself.point_info = self.vrep_matrix.dot(self.point_info)\n",
    "\t\tself.arm_info[0] = np.clip(self.theta_bound[0, 0] + 130*np.random.random(), -30, 30)\n",
    "\t\tself.arm_info[1] = np.clip(self.theta_bound[1, 0] + 89*np.random.random(), 0, 10)\n",
    "\t\tself.arm_info[2] = np.clip(self.theta_bound[2, 0] + 90*np.random.random(), -40, -10)\n",
    "\t\tself.EE = self.get_EE(self.arm_info)\n",
    "\t\tmove(motor_41, motor_41.present_position, self.arm_info[0])\n",
    "\t\tmove(motor_42, motor_42.present_position, self.arm_info[1])\n",
    "\t\tmove(motor_44, motor_44.present_position, self.arm_info[2])\n",
    "\t\tprint('initial random point: ', self.point_info)\n",
    "\t\tprint('initial random state: ', self.arm_info)\n",
    "\t\tself.arm_info[0] = motor_41.present_position  # initial state should be observation ???????\n",
    "\t\tself.arm_info[1] = motor_42.present_position\t\t\n",
    "\t\tself.arm_info[2] = motor_44.present_position\n",
    "\t\tself.EE = self.get_EE(self.arm_info)\n",
    "\n",
    "\t\tprint(\" \\n -----------------reset--------------- \\n\")\n",
    "\t\treturn self.get_state()\n"
   ]
  },
  {
   "cell_type": "code",
   "execution_count": 33,
   "metadata": {},
   "outputs": [
    {
     "ename": "IndentationError",
     "evalue": "unindent does not match any outer indentation level (<ipython-input-33-89eafc58279c>, line 13)",
     "output_type": "error",
     "traceback": [
      "\u001b[0;36m  File \u001b[0;32m\"<ipython-input-33-89eafc58279c>\"\u001b[0;36m, line \u001b[0;32m13\u001b[0m\n\u001b[0;31m    def rotation_matrix(self, theta, axis):\u001b[0m\n\u001b[0m                                           ^\u001b[0m\n\u001b[0;31mIndentationError\u001b[0m\u001b[0;31m:\u001b[0m unindent does not match any outer indentation level\n"
     ]
    }
   ],
   "source": [
    "def get_state(self):\n",
    "\t\tstate_ = np.zeros(8)\n",
    "\t\tstate_[:3] = self.arm_info\n",
    "\t\t# print('self.EE.shape: ', len(self.EE))\n",
    "\t\tstate_[3] = self.EE[0]\n",
    "\t\tstate_[4] = self.EE[1]\n",
    "\t\tstate_[5] = self.EE[2]\n",
    "\t\tstate_[6] = np.linalg.norm(self.point_info - self.EE)\n",
    "\t\tstate_[7] = 1 if self.grab_counter > 0 else 0\n",
    "\t\treturn state_ \n",
    "\n",
    "\n",
    "\tdef rotation_matrix(self, theta, axis):\n",
    "\tR = np.zeros((4,4))\n",
    "\ttheta_ = - theta*np.pi/180\n",
    "\tR[3, 3] = 1\n",
    "\tif axis == 0:   # axis x\n",
    "        R[0, 0] = 1\n",
    "\t    R[1, 1] = np.cos(theta_)\n",
    "\t    R[1, 2] = -np.sin(theta_)\n",
    "\t    R[2, 1] = np.sin(theta_)\n",
    "\t    R[2, 2] = np.cos(theta_)\n",
    "\telif axis == 1:   # axis y\n",
    "\t    R[0, 0] = np.cos(theta_)\n",
    "\t    R[0, 2] = -np.sin(theta_)\n",
    "\t    R[1, 1] = 1\n",
    "\t    R[2, 0] = np.sin(theta_)\n",
    "\t    R[2, 2] = np.cos(theta_)\n",
    "\telif axis == 2:\n",
    "\t    R[0, 0] = np.cos(theta_)\n",
    "\t    R[0, 1] = -np.sin(theta_)\n",
    "\t    R[1, 0] = np.sin(theta_)\n",
    "\t    R[1, 1] = np.sin(theta_)\n",
    "\t    R[2, 2] = 1\n",
    "\n",
    "\treturn R\n",
    "\n",
    "\tdef translation_matrix(self, length, axis):\n",
    "        T = np.zeros((4,4))\n",
    "\t    T[:3,:3] = np.eye(3)\n",
    "\t    T[3, 3] = 1\n",
    "\t    if axis == 0:\n",
    "            T[0, 3] = length\n",
    "        elif axis == 1:\n",
    "            T[1, 3] = length\n",
    "\t    elif axis == 2:\n",
    "            T[2, 3] = length\n",
    "\n",
    "        return T\n",
    "\n",
    "\tdef get_EE(self, arm_info):\n",
    "\t\t# EE = np.zeros(2)\n",
    "\t\t# arm_info_ = [arm_info[0] * np.pi /180, arm_info[1]* np.pi /180]\n",
    "\t\t# #print('arm_info_radiant: ', arm_info_)\n",
    "\t\t# EE[0] = -self.arm2l*np.sin(np.sum(arm_info_)) - self.arm1l*np.sin(arm_info_[0])\n",
    "\t\t# EE[1] = self.arm2l*np.cos(np.sum(arm_info_)) + self.arm1l*np.cos(arm_info_[0])\n",
    "\t\t#print('self.arm_info[0]: ', self.arm_info[0])\n",
    "\t\tR1 = self.rotation_matrix(self.arm_info[0]-90, 1) # theta1\n",
    "\t\tR2 = self.rotation_matrix(self.arm_info[1]-90, 0) # theta2 \n",
    "\t\tR3 = self.rotation_matrix(self.arm_info[2], 1) # theta3\n",
    "\t\tT1 = self.translation_matrix(-self.arm1l, 2) \n",
    "\t\tT2 = self.translation_matrix(-self.arm2l, 2)\n",
    "\n",
    "\n",
    "\t\tEE_full = R1.dot(R2.dot(T1.dot(R3.dot(T2))))\n",
    "\t\tEE = EE_full[:3, -1]\n",
    "\n",
    "\t\tif vrep:\n",
    "\t\t\tEE = self.vrep_matrix.dot(EE)\n",
    "\n",
    "\t\treturn EE\n",
    "\n",
    "\t# def sample_action(self):\n",
    "\t# \t"
   ]
  },
  {
   "cell_type": "code",
   "execution_count": 2,
   "metadata": {},
   "outputs": [],
   "source": [
    "def rotation_matrix(theta, axis):\n",
    "    R = np.zeros((4,4))\n",
    "    theta_ =  -theta*np.pi/180\n",
    "    R[3, 3] = 1\n",
    "    if axis == 0:   # axis x\n",
    "        R[0, 0] = 1\n",
    "        R[1, 1] = np.cos(theta_)\n",
    "        R[1, 2] = -np.sin(theta_)\n",
    "        R[2, 1] = np.sin(theta_)\n",
    "        R[2, 2] = np.cos(theta_)\n",
    "    elif axis == 1:   # axis y\n",
    "        R[0, 0] = np.cos(theta_)\n",
    "        R[0, 2] = -np.sin(theta_)\n",
    "        R[1, 1] = 1\n",
    "        R[2, 0] = np.sin(theta_)\n",
    "        R[2, 2] = np.cos(theta_)\n",
    "    elif axis == 2:\n",
    "        R[0, 0] = np.cos(theta_)\n",
    "        R[0, 1] = -np.sin(theta_)\n",
    "        R[1, 0] = np.sin(theta_)\n",
    "        R[1, 1] = np.sin(theta_)\n",
    "        R[2, 2] = 1\n",
    "\n",
    "    return R\n",
    "\n",
    "def translation_matrix(length, axis):\n",
    "    T = np.zeros((4,4))\n",
    "    T[:3,:3] = np.eye(3)\n",
    "    T[3, 3] = 1\n",
    "    if axis == 0:\n",
    "        T[0, 3] = length\n",
    "    elif axis == 1:\n",
    "        T[1, 3] = length\n",
    "    elif axis == 2:\n",
    "        T[2, 3] = length\n",
    "\n",
    "    return T\n",
    "\n",
    "def get_EE(arm_info):\n",
    "        # EE = np.zeros(2)\n",
    "        # arm_info_ = [arm_info[0] * np.pi /180, arm_info[1]* np.pi /180]\n",
    "        # #print('arm_info_radiant: ', arm_info_)\n",
    "        # EE[0] = -self.arm2l*np.sin(np.sum(arm_info_)) - self.arm1l*np.sin(arm_info_[0])\n",
    "        # EE[1] = self.arm2l*np.cos(np.sum(arm_info_)) + self.arm1l*np.cos(arm_info_[0])\n",
    "        #print('self.arm_info[0]: ', self.arm_info[0])\n",
    "        \n",
    "    R1 = rotation_matrix(arm_info[0]-90, 1)#1) # theta1\n",
    "    R2 = rotation_matrix(arm_info[1]-90, 0) # theta2 \n",
    "    R3 = rotation_matrix(arm_info[2], 1)#1) # theta3\n",
    "    T1 = translation_matrix(-arm1l, 2) \n",
    "    T2 = translation_matrix(-arm2l, 2)\n",
    "\n",
    "\n",
    "    EE_full = R1.dot(R2.dot(T1.dot(R3.dot(T2))))\n",
    "    EE = EE_full[:3, -1]\n",
    "\n",
    "    if vrep:\n",
    "        EE = vrep_matrix.dot(EE)\n",
    "\n",
    "    return EE\n"
   ]
  },
  {
   "cell_type": "code",
   "execution_count": 3,
   "metadata": {},
   "outputs": [
    {
     "data": {
      "text/plain": [
       "array([  0.,   0., -40.])"
      ]
     },
     "execution_count": 3,
     "metadata": {},
     "output_type": "execute_result"
    }
   ],
   "source": [
    "import numpy as np\n",
    "vrep = False\n",
    "arm1l = 18.5\n",
    "arm2l = 21.5\n",
    "theta1 = 90\n",
    "theta2 = 90\n",
    "thate3 = 0\n",
    "EE = get_EE([theta1, theta2, thate3])\n",
    "EE"
   ]
  },
  {
   "cell_type": "code",
   "execution_count": 142,
   "metadata": {},
   "outputs": [
    {
     "name": "stdout",
     "output_type": "stream",
     "text": [
      "EE:  [  0.          28.28427125 -28.28427125]\n"
     ]
    }
   ],
   "source": [
    "arm1l = 18.5\n",
    "arm2l = 21.5\n",
    "theta1 = 90\n",
    "theta2 = 45\n",
    "thate3 = 0\n",
    "EE = get_EE([theta1-90, theta2-90, thate3])\n",
    "matrix = np.array([[-1,0,0],[0,0,-1],[0,-1,0]])\n",
    "EE1 = matrix.dot(EE)\n",
    "print('EE: ',EE)\n",
    "#print('EE1: ', EE1)"
   ]
  },
  {
   "cell_type": "code",
   "execution_count": 191,
   "metadata": {},
   "outputs": [],
   "source": [
    "real_move(41, 15, 60) # 10, 90\n",
    "real_move(42, 15, 85) # 40, 85\n",
    "real_move(44, 15, 0)"
   ]
  },
  {
   "cell_type": "code",
   "execution_count": 71,
   "metadata": {},
   "outputs": [
    {
     "data": {
      "text/plain": [
       "((-49.45,), ((-148.0, 1.01),), (15.048,))"
      ]
     },
     "execution_count": 71,
     "metadata": {},
     "output_type": "execute_result"
    }
   ],
   "source": [
    "get_info(44)"
   ]
  },
  {
   "cell_type": "code",
   "execution_count": null,
   "metadata": {},
   "outputs": [],
   "source": []
  }
 ],
 "metadata": {
  "kernelspec": {
   "display_name": "Python 3",
   "language": "python",
   "name": "python3"
  },
  "language_info": {
   "codemirror_mode": {
    "name": "ipython",
    "version": 3
   },
   "file_extension": ".py",
   "mimetype": "text/x-python",
   "name": "python",
   "nbconvert_exporter": "python",
   "pygments_lexer": "ipython3",
   "version": "3.5.2"
  }
 },
 "nbformat": 4,
 "nbformat_minor": 2
}
